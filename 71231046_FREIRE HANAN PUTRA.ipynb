{
 "cells": [
  {
   "cell_type": "code",
   "execution_count": 1,
   "id": "8e4a1a53",
   "metadata": {},
   "outputs": [
    {
     "name": "stdout",
     "output_type": "stream",
     "text": [
      "Masukkan nilai 1: 45\n",
      "Masukkan nilai 2: 44\n",
      "Masukkan nilai 3: 65\n",
      "Masukkan nilai 4: 60\n",
      "Masukkan nilai 5: 23\n",
      "Tiga nilai terbaik: [65.0, 60.0, 45.0]\n"
     ]
    }
   ],
   "source": [
    "def tiga_terbaik():\n",
    "  while True:\n",
    "      nilai1 = float(input(\"Masukkan nilai 1: \"))\n",
    "      nilai2 = float(input(\"Masukkan nilai 2: \"))\n",
    "      nilai3 = float(input(\"Masukkan nilai 3: \"))\n",
    "      nilai4 = float(input(\"Masukkan nilai 4: \"))\n",
    "      nilai5 = float(input(\"Masukkan nilai 5: \"))\n",
    "\n",
    "      if not all([isinstance(n, float) for n in [nilai1, nilai2, nilai3,nilai4,nilai5]]):\n",
    "        raise ValueError(\"Semua nilai harus berupa angka.\")\n",
    "\n",
    "      data = [nilai1, nilai2, nilai3,nilai4,nilai5]\n",
    "      data.sort(reverse=True)\n",
    "\n",
    "      return data[:3]\n",
    "\n",
    "\n",
    "hasil = tiga_terbaik()\n",
    "print(f\"Tiga nilai terbaik: {hasil}\")"
   ]
  },
  {
   "cell_type": "code",
   "execution_count": 3,
   "id": "a25e7c76",
   "metadata": {},
   "outputs": [
    {
     "name": "stdout",
     "output_type": "stream",
     "text": [
      "Ketik angka yang ingin dimasukan, jika sudah ketik done): 67\n",
      "Ketik angka yang ingin dimasukan, jika sudah ketik done): 65\n",
      "Ketik angka yang ingin dimasukan, jika sudah ketik done): 63\n",
      "Ketik angka yang ingin dimasukan, jika sudah ketik done): 78\n",
      "Ketik angka yang ingin dimasukan, jika sudah ketik done): done\n",
      "Nilai Maksimumnya Adalah: 78.0\n",
      "Nilai Minimumnya Adalah: 63.0\n"
     ]
    }
   ],
   "source": [
    "def menemukan_max_min(data):\n",
    "\n",
    "  if len(data) < 2:\n",
    "    raise ValueError(\"Harus memasukkan setidaknya dua nilai.\")\n",
    "\n",
    "  nilai_max = max(data[0], data[1])\n",
    "  nilai_min = min(data[0], data[1])\n",
    "\n",
    "  for value in data[2:]:\n",
    "    nilai_max = value if value > nilai_max else nilai_max\n",
    "    nilai_min = value if value < nilai_min else nilai_min\n",
    "\n",
    "  return nilai_max, nilai_min\n",
    "\n",
    "input_user = []\n",
    "while True:\n",
    "  nilai_input = input(\"Ketik angka yang ingin dimasukan, jika sudah ketik done): \")\n",
    "  if nilai_input.lower() == \"done\":\n",
    "    break\n",
    "  input_user.append(float(nilai_input))\n",
    "\n",
    "\n",
    "try:\n",
    "  nilai_max, nilai_min = menemukan_max_min(input_user)\n",
    "  print(f\"Nilai Maksimumnya Adalah: {nilai_max}\")\n",
    "  print(f\"Nilai Minimumnya Adalah: {nilai_min}\")\n",
    "except ValueError as e:\n",
    "  print(f\"Error: {e}\")"
   ]
  },
  {
   "cell_type": "code",
   "execution_count": null,
   "id": "a1a730a5",
   "metadata": {},
   "outputs": [],
   "source": []
  }
 ],
 "metadata": {
  "kernelspec": {
   "display_name": "Python 3 (ipykernel)",
   "language": "python",
   "name": "python3"
  },
  "language_info": {
   "codemirror_mode": {
    "name": "ipython",
    "version": 3
   },
   "file_extension": ".py",
   "mimetype": "text/x-python",
   "name": "python",
   "nbconvert_exporter": "python",
   "pygments_lexer": "ipython3",
   "version": "3.11.5"
  }
 },
 "nbformat": 4,
 "nbformat_minor": 5
}
